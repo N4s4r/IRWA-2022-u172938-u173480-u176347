{
 "cells": [
  {
   "cell_type": "code",
   "execution_count": 1,
   "id": "2d736c54-17f8-49fd-8e85-e0387eb97aa6",
   "metadata": {},
   "outputs": [],
   "source": [
    "import pandas as pd"
   ]
  },
  {
   "cell_type": "code",
   "execution_count": 3,
   "id": "b8cef63d-a587-4b39-8648-b3cff91121a5",
   "metadata": {},
   "outputs": [],
   "source": [
    "df_evaluation = pd.read_csv('data/evaluation_gt.csv')"
   ]
  },
  {
   "cell_type": "code",
   "execution_count": 10,
   "id": "096bf8a6-8dae-46ea-91d1-f115569a86fa",
   "metadata": {},
   "outputs": [
    {
     "data": {
      "text/plain": [
       "60"
      ]
     },
     "execution_count": 10,
     "metadata": {},
     "output_type": "execute_result"
    }
   ],
   "source": [
    "len(df_evaluation)"
   ]
  },
  {
   "cell_type": "code",
   "execution_count": 8,
   "id": "8a12c0b9-fcf6-45d7-a8cf-d6b58f006458",
   "metadata": {},
   "outputs": [
    {
     "data": {
      "text/html": [
       "<div>\n",
       "<style scoped>\n",
       "    .dataframe tbody tr th:only-of-type {\n",
       "        vertical-align: middle;\n",
       "    }\n",
       "\n",
       "    .dataframe tbody tr th {\n",
       "        vertical-align: top;\n",
       "    }\n",
       "\n",
       "    .dataframe thead th {\n",
       "        text-align: right;\n",
       "    }\n",
       "</style>\n",
       "<table border=\"1\" class=\"dataframe\">\n",
       "  <thead>\n",
       "    <tr style=\"text-align: right;\">\n",
       "      <th></th>\n",
       "      <th>query_id</th>\n",
       "      <th>label</th>\n",
       "    </tr>\n",
       "  </thead>\n",
       "  <tbody>\n",
       "    <tr>\n",
       "      <th>count</th>\n",
       "      <td>60.000000</td>\n",
       "      <td>60.000000</td>\n",
       "    </tr>\n",
       "    <tr>\n",
       "      <th>mean</th>\n",
       "      <td>2.000000</td>\n",
       "      <td>0.500000</td>\n",
       "    </tr>\n",
       "    <tr>\n",
       "      <th>std</th>\n",
       "      <td>0.823387</td>\n",
       "      <td>0.504219</td>\n",
       "    </tr>\n",
       "    <tr>\n",
       "      <th>min</th>\n",
       "      <td>1.000000</td>\n",
       "      <td>0.000000</td>\n",
       "    </tr>\n",
       "    <tr>\n",
       "      <th>25%</th>\n",
       "      <td>1.000000</td>\n",
       "      <td>0.000000</td>\n",
       "    </tr>\n",
       "    <tr>\n",
       "      <th>50%</th>\n",
       "      <td>2.000000</td>\n",
       "      <td>0.500000</td>\n",
       "    </tr>\n",
       "    <tr>\n",
       "      <th>75%</th>\n",
       "      <td>3.000000</td>\n",
       "      <td>1.000000</td>\n",
       "    </tr>\n",
       "    <tr>\n",
       "      <th>max</th>\n",
       "      <td>3.000000</td>\n",
       "      <td>1.000000</td>\n",
       "    </tr>\n",
       "  </tbody>\n",
       "</table>\n",
       "</div>"
      ],
      "text/plain": [
       "        query_id      label\n",
       "count  60.000000  60.000000\n",
       "mean    2.000000   0.500000\n",
       "std     0.823387   0.504219\n",
       "min     1.000000   0.000000\n",
       "25%     1.000000   0.000000\n",
       "50%     2.000000   0.500000\n",
       "75%     3.000000   1.000000\n",
       "max     3.000000   1.000000"
      ]
     },
     "execution_count": 8,
     "metadata": {},
     "output_type": "execute_result"
    }
   ],
   "source": [
    "df_evaluation.describe()"
   ]
  },
  {
   "cell_type": "markdown",
   "id": "0f6043ce-05a2-41b3-9372-b4a5d91da038",
   "metadata": {},
   "source": [
    "a. Query 1: Landfall in South Carolina\n",
    "\n",
    "b. Query 2:Help and recovery during the hurricane disaster\n",
    "\n",
    "c. Query 3:Floodings in South Carolina"
   ]
  },
  {
   "cell_type": "code",
   "execution_count": 9,
   "id": "91b1cdaa-44a5-463e-8385-e325753c3c83",
   "metadata": {},
   "outputs": [],
   "source": [
    "E_Q1 = \"Landfall in South Carolina\"\n",
    "E_Q2 = \"Help and recovery during the hurricane disaster\"\n",
    "E_Q3 = \"Floodings in South Carolina\""
   ]
  },
  {
   "cell_type": "code",
   "execution_count": 11,
   "id": "6013f575-e369-4cbe-befb-8dbd9a8cd362",
   "metadata": {},
   "outputs": [],
   "source": [
    "evaluation_q1 = df_evaluation[df_evaluation.query_id == 1]\n",
    "evaluation_q2 = df_evaluation[df_evaluation.query_id == 2]\n",
    "evaluation_q3 = df_evaluation[df_evaluation.query_id == 3]"
   ]
  },
  {
   "cell_type": "markdown",
   "id": "3a0bc6f9-d1d2-4169-be90-c91cd8c17945",
   "metadata": {},
   "source": [
    "● Precision@K (P@K)\n",
    "\n",
    "● Recall@K (R@K)\n",
    "\n",
    "● Average Precision@K (P@K)\n",
    "\n",
    "● F1-Score\n",
    "\n",
    "● Mean Average Precision (MAP)\n",
    "\n",
    "● Mean Reciprocal Rank (MRR)\n",
    "\n",
    "● Normalized Discounted Cumulative Gain (NDCG)"
   ]
  },
  {
   "cell_type": "code",
   "execution_count": 15,
   "id": "8fbc6373-749b-4e05-ad50-d9d9b6cea985",
   "metadata": {},
   "outputs": [
    {
     "name": "stdout",
     "output_type": "stream",
     "text": [
      "38\n"
     ]
    }
   ],
   "source": [
    "print(len(set(df_evaluation.doc)))"
   ]
  },
  {
   "cell_type": "code",
   "execution_count": 25,
   "id": "58d2b198-5dc4-4b9e-8fe7-970f42924551",
   "metadata": {},
   "outputs": [],
   "source": [
    "def prior_evaluation(query, evaluation, K, ranking):\n",
    "    docID_retrieved = [x[0] for x in ranking[0:K]]\n",
    "    scores = [x[1] for x in ranking[0:K]]\n",
    "    \n",
    "    docs_retieved = evaluation[evaluation.doc in docs_retrieved]\n",
    "    num_rel_docs_retrieved = relevant_docs_retieved.label.sum()\n",
    "    precision = num_rel_docs_retrieved/K\n",
    "    print(\"Precision@\"+str(K)+\":\", precision)\n",
    "    \n",
    "    num_relevant_docs = len(evaluation[evaluation.label==1])\n",
    "    recall = num_rel_docs_retrieved/num_relevant_docs\n",
    "    print(\"Recall@\"+str(K)+\":\", recall)\n",
    "    \n",
    "    avg_precision = 0\n",
    "    docs_relevant = 0\n",
    "    rr = 0\n",
    "    for i in range(K):\n",
    "        if docs_retieved[docs_retieved.doc == docID_retrieved[i]].label.iloc[0]==1:\n",
    "            if docs_relevant == 0:\n",
    "                rr = (i+1)/K\n",
    "            docs_relevant+=1\n",
    "            avg_precision+=docs_relevant/(i+1)\n",
    "    avg_precision = avg_precision/num_rel_docs_retrieved\n",
    "    print(\"Average Precision@\"+str(K)+\":\", avg_precision)\n",
    "    \n",
    "    F_1 = 2*(1/(1/precision+1/recall))\n",
    "    print(\"F1-Score:\", F_1)\n",
    "    \n",
    "    actual = 0\n",
    "    ideal = 0\n",
    "    for i in range(K):\n",
    "        rel = docs_retieved[docs_retieved.doc == docID_retrieved[i]].label.iloc[0]\n",
    "        actual += (2**rel-1)/np.log(2+i)\n",
    "        ideal += 1/np.log(2+1)\n",
    "    ndcg = actual/ideal\n",
    "    print(\"Normalized Discounted Cumulative Gain (NDCG):\", ndcg)\n",
    "    \n",
    "    return precision, recall, avg_precision, rr, F1, ndcg"
   ]
  },
  {
   "attachments": {
    "31ae312c-c693-4af4-becd-dc056b41bf42.png": {
     "image/png": "[encoded data removed]"
    }
   },
   "cell_type": "markdown",
   "id": "92c778a2-9cde-4c9d-b50f-d3dc4ab0f2f4",
   "metadata": {},
   "source": [
    "![image.png](attachment:31ae312c-c693-4af4-becd-dc056b41bf42.png)"
   ]
  },
  {
   "cell_type": "code",
   "execution_count": 24,
   "id": "b5f1e8f6-220d-4cbe-a7a3-c7dd9ce1a8c8",
   "metadata": {},
   "outputs": [],
   "source": [
    "def evaluate_system(avg_p_1, avg_p_2, avg_p_3, rr_1, rr_2, rr_3):\n",
    "    m_a_p = (avg_p_1+avg_p_2+avg_p_3)/3\n",
    "    print(\"Mean Average Precision (MAP):\", m_a_p)\n",
    "    \n",
    "    mrr=(rr_1+rr_2+rr_3)/3\n",
    "    print(\"Mean Reciprocal Rank (MRR):\", mrr)"
   ]
  },
  {
   "cell_type": "markdown",
   "id": "417fcdc1-7983-4a66-bbdf-3bc52e1c2871",
   "metadata": {},
   "source": [
    "# 2-dimensional representation"
   ]
  },
  {
   "cell_type": "markdown",
   "id": "f3a6e318-7168-4a3a-a451-88880108e7c9",
   "metadata": {},
   "source": [
    "Choose one vector representation, TF-IDF or word2vec, and represent the tweets in a\n",
    "two-dimensional scatter plot through the T-SNE (T-distributed Stochastic Neighbor\n",
    "Embedding) algorithm. To do so, you may need first to represent the word as a\n",
    "vector, and then the tweet, i.e., resulted as the average value over the words\n",
    "involved. Any other option rather than T-SNE may be used, but needs to be justified.\n",
    "HINT: You don’t have to know all the theoretical details used in T-SNE, just use the\n",
    "proper library and generate the output and play with it.\n",
    "Also, you can choose to perform an alternative method to generate a 2-dimensional\n",
    "representation for the word embeddings (like PCA).\n"
   ]
  },
  {
   "cell_type": "code",
   "execution_count": 26,
   "id": "529e8938-b965-40da-a0cf-a3ef61d76516",
   "metadata": {},
   "outputs": [],
   "source": [
    "from sklearn.manifold import TSNE"
   ]
  },
  {
   "cell_type": "code",
   "execution_count": 30,
   "id": "5c277057-fc95-4fa0-9f31-bbd9f21b0370",
   "metadata": {},
   "outputs": [],
   "source": [
    "import numpy as np\n",
    "import matplotlib as plt"
   ]
  },
  {
   "cell_type": "code",
   "execution_count": 29,
   "id": "facd0879-e3d7-4b2c-9c89-41dd29a3f2ce",
   "metadata": {},
   "outputs": [],
   "source": [
    "X = np.array([[0, 0, 0], [0, 1, 1], [1, 0, 1], [1, 1, 1]])\n",
    "X_embedded = TSNE(n_components=2, learning_rate='auto', init='random', perplexity=3).fit_transform(X)"
   ]
  },
  {
   "cell_type": "code",
   "execution_count": 38,
   "id": "58ae266b-019e-4378-8fdf-932d971783d5",
   "metadata": {},
   "outputs": [],
   "source": [
    "import matplotlib\n",
    "import matplotlib.pyplot "
   ]
  },
  {
   "cell_type": "code",
   "execution_count": 40,
   "id": "5b7030b0-6fcf-4acd-b35a-076f07d60df1",
   "metadata": {},
   "outputs": [
    {
     "data": {
      "text/plain": [
       "<matplotlib.collections.PathCollection at 0x2969878a7f0>"
      ]
     },
     "execution_count": 40,
     "metadata": {},
     "output_type": "execute_result"
    },
    {
     "data": {
      "image/png": "[encoded data removed]",
      "text/plain": [
       "<Figure size 432x288 with 1 Axes>"
      ]
     },
     "metadata": {
      "needs_background": "light"
     },
     "output_type": "display_data"
    }
   ],
   "source": [
    "x_ = [p[0] for p in X_embedded]\n",
    "y_ = [p[1] for p in X_embedded]\n",
    "matplotlib.pyplot.scatter(x_, y_)"
   ]
  }
 ],
 "metadata": {
  "kernelspec": {
   "display_name": "Python 3 (ipykernel)",
   "language": "python",
   "name": "python3"
  },
  "language_info": {
   "codemirror_mode": {
    "name": "ipython",
    "version": 3
   },
   "file_extension": ".py",
   "mimetype": "text/x-python",
   "name": "python",
   "nbconvert_exporter": "python",
   "pygments_lexer": "ipython3",
   "version": "3.9.12"
  }
 },
 "nbformat": 4,
 "nbformat_minor": 5
}
