{
 "cells": [
  {
   "cell_type": "code",
   "execution_count": 7,
   "id": "ec1210da-b995-43dc-8a27-89f8d6ec7832",
   "metadata": {},
   "outputs": [],
   "source": [
    "import random\n",
    "import pandas as pd"
   ]
  },
  {
   "cell_type": "code",
   "execution_count": 49,
   "id": "042cf971-64d1-4ed2-97cb-39697c72657f",
   "metadata": {},
   "outputs": [],
   "source": [
    "docs = list(range(1,4001))\n",
    "\n",
    "random.shuffle(docs)\n",
    "index = docs[0:60]\n",
    "\n",
    "docs = sorted([f\"doc_{i}\" for i in index])"
   ]
  },
  {
   "cell_type": "code",
   "execution_count": 50,
   "id": "54156316-6470-40d9-a431-7e422ca5de43",
   "metadata": {},
   "outputs": [
    {
     "name": "stdout",
     "output_type": "stream",
     "text": [
      "['doc_1036', 'doc_1060', 'doc_1068', 'doc_1108', 'doc_1202', 'doc_1212', 'doc_1232', 'doc_1266', 'doc_1357', 'doc_1360', 'doc_1447', 'doc_1463', 'doc_1545', 'doc_156', 'doc_1699', 'doc_1709', 'doc_1731', 'doc_1841', 'doc_1844', 'doc_1846', 'doc_1952', 'doc_2034', 'doc_2092', 'doc_2261', 'doc_2300', 'doc_2369', 'doc_2396', 'doc_2489', 'doc_2523', 'doc_2569', 'doc_2768', 'doc_279', 'doc_2807', 'doc_286', 'doc_2922', 'doc_3043', 'doc_3068', 'doc_3090', 'doc_318', 'doc_3214', 'doc_3244', 'doc_3309', 'doc_3348', 'doc_3368', 'doc_3421', 'doc_3492', 'doc_3584', 'doc_3585', 'doc_3633', 'doc_3672', 'doc_3674', 'doc_3787', 'doc_3862', 'doc_389', 'doc_3967', 'doc_646', 'doc_740', 'doc_747', 'doc_822', 'doc_957']\n"
     ]
    }
   ],
   "source": [
    "print(docs)"
   ]
  },
  {
   "cell_type": "code",
   "execution_count": 77,
   "id": "05ef7e18-b205-489d-b634-ac81d5cdaeab",
   "metadata": {},
   "outputs": [],
   "source": [
    "df = pd.read_csv('processed_tweets.csv')\n",
    "df.set_index(\"DocID\", inplace=True)\n",
    "df = df.loc[docs]\n",
    "df.drop(columns = [\"Unnamed: 0\",\"Username\",\"Date\",\"Hashtags\",\"Likes\",\"Retweets\", \"Url\"], inplace=True)"
   ]
  },
  {
   "cell_type": "code",
   "execution_count": 78,
   "id": "8bcf636b-b249-45b2-9a59-405636a1d876",
   "metadata": {},
   "outputs": [],
   "source": [
    "df[\"Query_ID\"] = 1\n",
    "df[\"Label Q1\"] = 0\n",
    "df[\"Label Q2\"] = 0\n",
    "df[\"Label Q3\"] = 0\n",
    "df[\"Label Q4\"] = 0\n",
    "df[\"Label Q5\"] = 0"
   ]
  },
  {
   "cell_type": "code",
   "execution_count": 79,
   "id": "4cc91233-b77a-451b-88e6-a11a650bb711",
   "metadata": {},
   "outputs": [],
   "source": [
    "df.to_csv(\"data/my_evaluation.csv\")"
   ]
  },
  {
   "cell_type": "code",
   "execution_count": null,
   "id": "723eb840-9fa4-41ce-908e-5b036fae2c4a",
   "metadata": {},
   "outputs": [],
   "source": []
  }
 ],
 "metadata": {
  "kernelspec": {
   "display_name": "Python 3 (ipykernel)",
   "language": "python",
   "name": "python3"
  },
  "language_info": {
   "codemirror_mode": {
    "name": "ipython",
    "version": 3
   },
   "file_extension": ".py",
   "mimetype": "text/x-python",
   "name": "python",
   "nbconvert_exporter": "python",
   "pygments_lexer": "ipython3",
   "version": "3.10.6"
  }
 },
 "nbformat": 4,
 "nbformat_minor": 5
}
