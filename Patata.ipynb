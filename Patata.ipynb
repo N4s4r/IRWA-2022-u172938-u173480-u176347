{
 "cells": [
  {
   "cell_type": "code",
   "execution_count": 246,
   "id": "e10d28d4-95c2-4828-a8b3-77312ec1a8a6",
   "metadata": {},
   "outputs": [
    {
     "name": "stderr",
     "output_type": "stream",
     "text": [
      "[nltk_data] Downloading package stopwords to\n",
      "[nltk_data]     /Users/Campero/nltk_data...\n",
      "[nltk_data]   Package stopwords is already up-to-date!\n"
     ]
    },
    {
     "data": {
      "text/plain": [
       "True"
      ]
     },
     "execution_count": 246,
     "metadata": {},
     "output_type": "execute_result"
    }
   ],
   "source": [
    "import warnings\n",
    "warnings.filterwarnings(\"ignore\")\n",
    "import nltk\n",
    "nltk.download('stopwords')"
   ]
  },
  {
   "cell_type": "code",
   "execution_count": 170,
   "id": "34761a12-bd1e-4af1-9924-dc4b69c37f5e",
   "metadata": {},
   "outputs": [],
   "source": [
    "from collections import defaultdict\n",
    "from array import array\n",
    "from nltk.stem import PorterStemmer\n",
    "from nltk.corpus import stopwords\n",
    "import math\n",
    "import numpy as np\n",
    "import collections\n",
    "from numpy import linalg as la\n",
    "#from numpy import ndarray as nda\n",
    "import time\n",
    "import pandas as pd\n",
    "import json\n",
    "import contractions"
   ]
  },
  {
   "cell_type": "code",
   "execution_count": 3,
   "id": "b54dd25e-2675-45af-9e95-5a78b1ec5fe1",
   "metadata": {},
   "outputs": [
    {
     "name": "stdout",
     "output_type": "stream",
     "text": [
      "Total number of tweet documents in the corpus: 4000\n"
     ]
    }
   ],
   "source": [
    "docs_path = 'data/tweet_document_ids_map.csv'\n",
    "with open(docs_path) as fp:\n",
    "    lines = fp.read().split(\"\\n\")\n",
    "lines = [l for l in lines if l != \"\"]\n",
    "print(\"Total number of tweet documents in the corpus: {}\".format(len(lines)))\n",
    "\n",
    "tweet2doc = dict()\n",
    "doc2tweet = dict()\n",
    "\n",
    "for line in lines:\n",
    "    docID, tweetID = tuple(line.split(\"\\t\"))\n",
    "    tweet2doc[tweetID] = docID\n",
    "    doc2tweet[docID] = tweetID"
   ]
  },
  {
   "cell_type": "code",
   "execution_count": 4,
   "id": "46a6f513-a3d2-4755-be39-c8b17e30d976",
   "metadata": {},
   "outputs": [
    {
     "name": "stdout",
     "output_type": "stream",
     "text": [
      "Total number of tweets in the corpus: 4000\n"
     ]
    }
   ],
   "source": [
    "tweets_path = 'data/tw_hurricane_data.json'\n",
    "with open(tweets_path) as fp:\n",
    "    tweets = fp.read().split(\"\\n\")\n",
    "tweets = [t for t in tweets if t != \"\"]\n",
    "print(\"Total number of tweets in the corpus: {}\".format(len(tweets)))"
   ]
  },
  {
   "cell_type": "code",
   "execution_count": 5,
   "id": "87ce1c56-f2e8-4193-a923-59665f30304c",
   "metadata": {},
   "outputs": [],
   "source": [
    "tweets_json=[]\n",
    "for t in tweets:\n",
    "    tweets_json.append(json.loads(t))"
   ]
  },
  {
   "cell_type": "code",
   "execution_count": 6,
   "id": "4aceac2e-d736-4e48-ad8d-0b0e8ebb189f",
   "metadata": {},
   "outputs": [
    {
     "data": {
      "text/html": [
       "<div>\n",
       "<style scoped>\n",
       "    .dataframe tbody tr th:only-of-type {\n",
       "        vertical-align: middle;\n",
       "    }\n",
       "\n",
       "    .dataframe tbody tr th {\n",
       "        vertical-align: top;\n",
       "    }\n",
       "\n",
       "    .dataframe thead th {\n",
       "        text-align: right;\n",
       "    }\n",
       "</style>\n",
       "<table border=\"1\" class=\"dataframe\">\n",
       "  <thead>\n",
       "    <tr style=\"text-align: right;\">\n",
       "      <th></th>\n",
       "      <th>Tweet</th>\n",
       "      <th>Username</th>\n",
       "      <th>Date</th>\n",
       "      <th>Hashtags</th>\n",
       "      <th>Likes</th>\n",
       "      <th>Retweets</th>\n",
       "      <th>Url</th>\n",
       "    </tr>\n",
       "  </thead>\n",
       "  <tbody>\n",
       "    <tr>\n",
       "      <th>0</th>\n",
       "      <td>So this will keep spinning over us until 7 pm…...</td>\n",
       "      <td>Suz👻</td>\n",
       "      <td>Fri Sep 30 18:39:08 +0000 2022</td>\n",
       "      <td>[HurricaneIan]</td>\n",
       "      <td>0</td>\n",
       "      <td>0</td>\n",
       "      <td>https://t.co/VROTxNS9rz</td>\n",
       "    </tr>\n",
       "    <tr>\n",
       "      <th>1</th>\n",
       "      <td>Our hearts go out to all those affected by #Hu...</td>\n",
       "      <td>Lytx</td>\n",
       "      <td>Fri Sep 30 18:39:01 +0000 2022</td>\n",
       "      <td>[HurricaneIan]</td>\n",
       "      <td>0</td>\n",
       "      <td>0</td>\n",
       "      <td>None</td>\n",
       "    </tr>\n",
       "    <tr>\n",
       "      <th>2</th>\n",
       "      <td>Kissimmee neighborhood off of Michigan Ave. \\n...</td>\n",
       "      <td>Christopher Heath</td>\n",
       "      <td>Fri Sep 30 18:38:58 +0000 2022</td>\n",
       "      <td>[HurricaneIan]</td>\n",
       "      <td>0</td>\n",
       "      <td>0</td>\n",
       "      <td>https://t.co/jf7zseg0Fe</td>\n",
       "    </tr>\n",
       "    <tr>\n",
       "      <th>3</th>\n",
       "      <td>I have this one tree in my backyard that scare...</td>\n",
       "      <td>alex ✨</td>\n",
       "      <td>Fri Sep 30 18:38:57 +0000 2022</td>\n",
       "      <td>[scwx, HurricaneIan]</td>\n",
       "      <td>0</td>\n",
       "      <td>0</td>\n",
       "      <td>None</td>\n",
       "    </tr>\n",
       "    <tr>\n",
       "      <th>4</th>\n",
       "      <td>@AshleyRuizWx @Stephan89441722 @lilmizzheidi @...</td>\n",
       "      <td>Tess 💋</td>\n",
       "      <td>Fri Sep 30 18:38:53 +0000 2022</td>\n",
       "      <td>[HurricaneIan]</td>\n",
       "      <td>0</td>\n",
       "      <td>0</td>\n",
       "      <td>None</td>\n",
       "    </tr>\n",
       "  </tbody>\n",
       "</table>\n",
       "</div>"
      ],
      "text/plain": [
       "                                               Tweet           Username  \\\n",
       "0  So this will keep spinning over us until 7 pm…...               Suz👻   \n",
       "1  Our hearts go out to all those affected by #Hu...               Lytx   \n",
       "2  Kissimmee neighborhood off of Michigan Ave. \\n...  Christopher Heath   \n",
       "3  I have this one tree in my backyard that scare...             alex ✨   \n",
       "4  @AshleyRuizWx @Stephan89441722 @lilmizzheidi @...             Tess 💋   \n",
       "\n",
       "                             Date              Hashtags  Likes  Retweets  \\\n",
       "0  Fri Sep 30 18:39:08 +0000 2022        [HurricaneIan]      0         0   \n",
       "1  Fri Sep 30 18:39:01 +0000 2022        [HurricaneIan]      0         0   \n",
       "2  Fri Sep 30 18:38:58 +0000 2022        [HurricaneIan]      0         0   \n",
       "3  Fri Sep 30 18:38:57 +0000 2022  [scwx, HurricaneIan]      0         0   \n",
       "4  Fri Sep 30 18:38:53 +0000 2022        [HurricaneIan]      0         0   \n",
       "\n",
       "                       Url  \n",
       "0  https://t.co/VROTxNS9rz  \n",
       "1                     None  \n",
       "2  https://t.co/jf7zseg0Fe  \n",
       "3                     None  \n",
       "4                     None  "
      ]
     },
     "execution_count": 6,
     "metadata": {},
     "output_type": "execute_result"
    }
   ],
   "source": [
    "lengths = set()\n",
    "for c in tweets_json:\n",
    "    entities = c[\"entities\"]\n",
    "    c[\"hashtags\"] = []\n",
    "    for hashtag in entities[\"hashtags\"]:\n",
    "        c[\"hashtags\"].append(hashtag[\"text\"])\n",
    "    c[\"url\"] = None\n",
    "    if \"media\" in entities.keys():\n",
    "        if \"url\" in entities[\"media\"][0].keys():\n",
    "            c[\"url\"] = entities[\"media\"][0][\"url\"]\n",
    "    #c[\"urls\"] = entities[\"urls\"]\n",
    "    c[\"username\"] = c[\"user\"][\"name\"]\n",
    "    \n",
    "columns = {\n",
    "    \"full_text\":\"Tweet\",\n",
    "    \"username\":\"Username\",\n",
    "    \"created_at\":\"Date\",\n",
    "    \"hashtags\":\"Hashtags\",\n",
    "    \"favorite_count\":\"Likes\",\n",
    "    \"retweet_count\":\"Retweets\",\n",
    "    \"url\":\"Url\"\n",
    "}\n",
    "\n",
    "dt_tweets = pd.DataFrame.from_dict(data=tweets_json)[columns.keys()].rename(columns=columns)\n",
    "dt_tweets.head()"
   ]
  },
  {
   "cell_type": "code",
   "execution_count": 243,
   "id": "af909926-568b-4f73-8655-ea6653f5fc54",
   "metadata": {},
   "outputs": [],
   "source": [
    "def build_terms(line):\n",
    "    \"\"\"\n",
    "    Preprocess the tweet content removing stop words, stemming,\n",
    "    transforming in lowercase, removing special characters [#, @, .] and removing tweet url \n",
    "    (since it is included in another column on the dataframe)\n",
    "    \n",
    "    return tokenized tweet (list of words after applying the previous steps).\n",
    "    \n",
    "    Argument:\n",
    "    line -- string (tweet) to be preprocessed\n",
    "    \n",
    "    Returns:\n",
    "    line - a list of tokens corresponding to the input text after the preprocessing\n",
    "    \"\"\"\n",
    "    ## START CODE\n",
    "    line = line.lower() ## Transform in lowercase\n",
    "    line = re.sub(r\"[^A-Za-z 0-9 ']+\", '', line)\n",
    "    stop_words = set(stopwords.words(\"english\"))\n",
    "    line = ' '.join([contractions.fix(x) for x in line.split(' ')])\n",
    "    line = re.sub(\"'\", '', line)\n",
    "    line = line.split(r'\\s+')\n",
    "    line = [x for x in line if x and x not in stop_words]\n",
    "    line = filter(lambda x:x[0:5]!='https', line)\n",
    "    line = [x for x in line]\n",
    "    ps = PorterStemmer()\n",
    "    lemmatizer = WordNetLemmatizer()\n",
    "    line = [lemmatizer.lemmatize(x) for x in line]\n",
    "    line = [ps.stem(x) for x in line]\n",
    "    \n",
    "    ## END CODE\n",
    "    return ' '.join(line)"
   ]
  },
  {
   "cell_type": "code",
   "execution_count": 244,
   "id": "a1199137-71c7-4d2b-a280-d151e65038e8",
   "metadata": {},
   "outputs": [
    {
     "data": {
      "text/plain": [
       "['go', 'alex', 'go', 'buy', 'garden', 'cat', 'food', 'link']"
      ]
     },
     "execution_count": 244,
     "metadata": {},
     "output_type": "execute_result"
    }
   ],
   "source": [
    "build_terms(\"Where are we going alex ✨? I'm  going to buy the gardener's cats' food from this link https://hola.com\")"
   ]
  },
  {
   "cell_type": "code",
   "execution_count": 245,
   "id": "f87a4bcd-a023-4787-9159-c41d59f6fa5f",
   "metadata": {},
   "outputs": [
    {
     "ename": "NameError",
     "evalue": "name 'dt_tweets' is not defined",
     "output_type": "error",
     "traceback": [
      "\u001b[0;31m---------------------------------------------------------------------------\u001b[0m",
      "\u001b[0;31mNameError\u001b[0m                                 Traceback (most recent call last)",
      "Cell \u001b[0;32mIn [245], line 1\u001b[0m\n\u001b[0;32m----> 1\u001b[0m build_terms(\u001b[43mdt_tweets\u001b[49m\u001b[38;5;241m.\u001b[39miloc[\u001b[38;5;241m3\u001b[39m][\u001b[38;5;124m'\u001b[39m\u001b[38;5;124mTweet\u001b[39m\u001b[38;5;124m'\u001b[39m])\n",
      "\u001b[0;31mNameError\u001b[0m: name 'dt_tweets' is not defined"
     ]
    }
   ],
   "source": [
    "build_terms(dt_tweets.iloc[3]['Tweet'])"
   ]
  },
  {
   "cell_type": "code",
   "execution_count": 194,
   "id": "1455bbd2-ec28-4df2-ba6d-adfa1d97e24e",
   "metadata": {},
   "outputs": [
    {
     "ename": "NameError",
     "evalue": "name 'dt_tweets' is not defined",
     "output_type": "error",
     "traceback": [
      "\u001b[0;31m---------------------------------------------------------------------------\u001b[0m",
      "\u001b[0;31mNameError\u001b[0m                                 Traceback (most recent call last)",
      "Cell \u001b[0;32mIn [194], line 1\u001b[0m\n\u001b[0;32m----> 1\u001b[0m tweets_processed \u001b[38;5;241m=\u001b[39m \u001b[43mdt_tweets\u001b[49m\u001b[38;5;241m.\u001b[39mcopy()\n\u001b[1;32m      2\u001b[0m \u001b[38;5;28;01mfor\u001b[39;00m index, row \u001b[38;5;129;01min\u001b[39;00m tweets_processed\u001b[38;5;241m.\u001b[39miterrows():\n\u001b[1;32m      3\u001b[0m     tweets_processed[\u001b[38;5;124m\"\u001b[39m\u001b[38;5;124mTweet\u001b[39m\u001b[38;5;124m\"\u001b[39m][index] \u001b[38;5;241m=\u001b[39m build_terms(row[\u001b[38;5;124m'\u001b[39m\u001b[38;5;124mTweet\u001b[39m\u001b[38;5;124m'\u001b[39m])\n",
      "\u001b[0;31mNameError\u001b[0m: name 'dt_tweets' is not defined"
     ]
    }
   ],
   "source": [
    "tweets_processed = dt_tweets.copy()\n",
    "for index, row in tweets_processed.iterrows():\n",
    "    tweets_processed[\"Tweet\"][index] = build_terms(row['Tweet'])\n",
    "tweets_processed.head()"
   ]
  },
  {
   "cell_type": "code",
   "execution_count": 15,
   "id": "182a471b-7e85-401e-97a3-af1be1c68a34",
   "metadata": {},
   "outputs": [
    {
     "data": {
      "text/plain": [
       "dict_keys"
      ]
     },
     "execution_count": 15,
     "metadata": {},
     "output_type": "execute_result"
    }
   ],
   "source": [
    "type(tweet2doc.keys())"
   ]
  },
  {
   "cell_type": "code",
   "execution_count": 16,
   "id": "af56b71c-d07b-48e9-a604-d02b87052335",
   "metadata": {},
   "outputs": [],
   "source": [
    "tweets_processed[\"doc_id\"]=[tweet2doc[str(x[\"id\"])] for x in tweets_json]"
   ]
  },
  {
   "cell_type": "code",
   "execution_count": 17,
   "id": "a1eb0a51-e548-4c83-9a30-ec4c4981905a",
   "metadata": {},
   "outputs": [
    {
     "data": {
      "text/html": [
       "<div>\n",
       "<style scoped>\n",
       "    .dataframe tbody tr th:only-of-type {\n",
       "        vertical-align: middle;\n",
       "    }\n",
       "\n",
       "    .dataframe tbody tr th {\n",
       "        vertical-align: top;\n",
       "    }\n",
       "\n",
       "    .dataframe thead th {\n",
       "        text-align: right;\n",
       "    }\n",
       "</style>\n",
       "<table border=\"1\" class=\"dataframe\">\n",
       "  <thead>\n",
       "    <tr style=\"text-align: right;\">\n",
       "      <th></th>\n",
       "      <th>Tweet</th>\n",
       "      <th>Username</th>\n",
       "      <th>Date</th>\n",
       "      <th>Hashtags</th>\n",
       "      <th>Likes</th>\n",
       "      <th>Retweets</th>\n",
       "      <th>Url</th>\n",
       "      <th>doc_id</th>\n",
       "    </tr>\n",
       "  </thead>\n",
       "  <tbody>\n",
       "    <tr>\n",
       "      <th>0</th>\n",
       "      <td>[keep, spin, us, 7, pm…go, away, alreadi, hurr...</td>\n",
       "      <td>Suz👻</td>\n",
       "      <td>Fri Sep 30 18:39:08 +0000 2022</td>\n",
       "      <td>[HurricaneIan]</td>\n",
       "      <td>0</td>\n",
       "      <td>0</td>\n",
       "      <td>https://t.co/VROTxNS9rz</td>\n",
       "      <td>doc_1</td>\n",
       "    </tr>\n",
       "    <tr>\n",
       "      <th>1</th>\n",
       "      <td>[heart, go, affect, hurricaneian, wish, everyo...</td>\n",
       "      <td>Lytx</td>\n",
       "      <td>Fri Sep 30 18:39:01 +0000 2022</td>\n",
       "      <td>[HurricaneIan]</td>\n",
       "      <td>0</td>\n",
       "      <td>0</td>\n",
       "      <td>None</td>\n",
       "      <td>doc_2</td>\n",
       "    </tr>\n",
       "    <tr>\n",
       "      <th>2</th>\n",
       "      <td>[kissimme, neighborhood, michigan, ave, hurric...</td>\n",
       "      <td>Christopher Heath</td>\n",
       "      <td>Fri Sep 30 18:38:58 +0000 2022</td>\n",
       "      <td>[HurricaneIan]</td>\n",
       "      <td>0</td>\n",
       "      <td>0</td>\n",
       "      <td>https://t.co/jf7zseg0Fe</td>\n",
       "      <td>doc_3</td>\n",
       "    </tr>\n",
       "    <tr>\n",
       "      <th>3</th>\n",
       "      <td>[one, tree, backyard, scare, poltergeist, tree...</td>\n",
       "      <td>alex ✨</td>\n",
       "      <td>Fri Sep 30 18:38:57 +0000 2022</td>\n",
       "      <td>[scwx, HurricaneIan]</td>\n",
       "      <td>0</td>\n",
       "      <td>0</td>\n",
       "      <td>None</td>\n",
       "      <td>doc_4</td>\n",
       "    </tr>\n",
       "    <tr>\n",
       "      <th>4</th>\n",
       "      <td>[ashleyruizwx, stephan89441722, lilmizzheidi, ...</td>\n",
       "      <td>Tess 💋</td>\n",
       "      <td>Fri Sep 30 18:38:53 +0000 2022</td>\n",
       "      <td>[HurricaneIan]</td>\n",
       "      <td>0</td>\n",
       "      <td>0</td>\n",
       "      <td>None</td>\n",
       "      <td>doc_5</td>\n",
       "    </tr>\n",
       "  </tbody>\n",
       "</table>\n",
       "</div>"
      ],
      "text/plain": [
       "                                               Tweet           Username  \\\n",
       "0  [keep, spin, us, 7, pm…go, away, alreadi, hurr...               Suz👻   \n",
       "1  [heart, go, affect, hurricaneian, wish, everyo...               Lytx   \n",
       "2  [kissimme, neighborhood, michigan, ave, hurric...  Christopher Heath   \n",
       "3  [one, tree, backyard, scare, poltergeist, tree...             alex ✨   \n",
       "4  [ashleyruizwx, stephan89441722, lilmizzheidi, ...             Tess 💋   \n",
       "\n",
       "                             Date              Hashtags  Likes  Retweets  \\\n",
       "0  Fri Sep 30 18:39:08 +0000 2022        [HurricaneIan]      0         0   \n",
       "1  Fri Sep 30 18:39:01 +0000 2022        [HurricaneIan]      0         0   \n",
       "2  Fri Sep 30 18:38:58 +0000 2022        [HurricaneIan]      0         0   \n",
       "3  Fri Sep 30 18:38:57 +0000 2022  [scwx, HurricaneIan]      0         0   \n",
       "4  Fri Sep 30 18:38:53 +0000 2022        [HurricaneIan]      0         0   \n",
       "\n",
       "                       Url doc_id  \n",
       "0  https://t.co/VROTxNS9rz  doc_1  \n",
       "1                     None  doc_2  \n",
       "2  https://t.co/jf7zseg0Fe  doc_3  \n",
       "3                     None  doc_4  \n",
       "4                     None  doc_5  "
      ]
     },
     "execution_count": 17,
     "metadata": {},
     "output_type": "execute_result"
    }
   ],
   "source": [
    "tweets_processed.head()"
   ]
  }
 ],
 "metadata": {
  "kernelspec": {
   "display_name": "Python 3 (ipykernel)",
   "language": "python",
   "name": "python3"
  },
  "language_info": {
   "codemirror_mode": {
    "name": "ipython",
    "version": 3
   },
   "file_extension": ".py",
   "mimetype": "text/x-python",
   "name": "python",
   "nbconvert_exporter": "python",
   "pygments_lexer": "ipython3",
   "version": "3.9.12"
  }
 },
 "nbformat": 4,
 "nbformat_minor": 5
}
