{
 "cells": [
  {
   "cell_type": "code",
   "execution_count": 36,
   "id": "29168342-ae0b-4480-a3d1-a7d589cc2a46",
   "metadata": {},
   "outputs": [],
   "source": [
    "import pandas as pd\n",
    "from collections import defaultdict"
   ]
  },
  {
   "cell_type": "code",
   "execution_count": 37,
   "id": "a0e4eeb3-8312-4cf6-bdbc-f66ae9e808f2",
   "metadata": {},
   "outputs": [],
   "source": [
    "df = pd.read_csv('processed_tweets.csv')"
   ]
  },
  {
   "cell_type": "markdown",
   "id": "db2f80c5-23a4-4a99-802c-572cf6babdc4",
   "metadata": {},
   "source": [
    "# Building inverted index "
   ]
  },
  {
   "cell_type": "code",
   "execution_count": 45,
   "id": "a3907ca5-f6d2-424a-a692-dad8e56147cd",
   "metadata": {},
   "outputs": [],
   "source": [
    "def extract_tweet_vocabulary(tweet, docId):\n",
    "    return {term: docId for term in tweet.split(' ')}   "
   ]
  },
  {
   "cell_type": "code",
   "execution_count": 46,
   "id": "0f3d1fc8-0475-440d-91de-8abe308b1367",
   "metadata": {},
   "outputs": [],
   "source": [
    "def merge_dicts(dicts):\n",
    "    vocab = defaultdict(list)\n",
    "    for dic in dicts:\n",
    "        for term in dic:\n",
    "            vocab[term].append(dic[term])\n",
    "    return dict(vocab)"
   ]
  },
  {
   "cell_type": "code",
   "execution_count": 47,
   "id": "3bd7321e-e1b9-4b52-b4d0-4db4906cef98",
   "metadata": {},
   "outputs": [],
   "source": [
    "tweets_dicts=map(extract_tweet_vocabulary, df['Tweet'], df['DocID'])\n",
    "vocabulary = merge_dicts(tweets_dicts)\n"
   ]
  },
  {
   "cell_type": "code",
   "execution_count": 48,
   "id": "0af22911-df3a-4949-a1de-d94b4140d8e7",
   "metadata": {},
   "outputs": [
    {
     "name": "stdout",
     "output_type": "stream",
     "text": [
      "10671\n"
     ]
    }
   ],
   "source": [
    "print(len(vocabulary.keys()))"
   ]
  },
  {
   "cell_type": "code",
   "execution_count": 49,
   "id": "f700ebb2-a104-4742-abb6-65f52ffa2f98",
   "metadata": {},
   "outputs": [
    {
     "name": "stdout",
     "output_type": "stream",
     "text": [
      "keep  :  ['doc_1', 'doc_86', 'doc_95', 'doc_228', 'doc_413', 'doc_433', 'doc_446', 'doc_467', 'doc_484', 'doc_499', 'doc_563', 'doc_653', 'doc_759', 'doc_762', 'doc_786', 'doc_848', 'doc_970', 'doc_998', 'doc_1102', 'doc_1135', 'doc_1320', 'doc_1442', 'doc_1626', 'doc_1634', 'doc_1644', 'doc_1651', 'doc_1812', 'doc_1817', 'doc_1893', 'doc_1944', 'doc_2045', 'doc_2046', 'doc_2096', 'doc_2114', 'doc_2235', 'doc_2270', 'doc_2290', 'doc_2299', 'doc_2326', 'doc_2384', 'doc_2495', 'doc_2522', 'doc_2529', 'doc_2577', 'doc_2599', 'doc_2677', 'doc_2689', 'doc_2776', 'doc_2806', 'doc_2925', 'doc_2936', 'doc_2940', 'doc_2959', 'doc_2975', 'doc_2980', 'doc_2983', 'doc_2998', 'doc_3036', 'doc_3083', 'doc_3093', 'doc_3097', 'doc_3175', 'doc_3205', 'doc_3222', 'doc_3355', 'doc_3364', 'doc_3377', 'doc_3442', 'doc_3506', 'doc_3561', 'doc_3711', 'doc_3716', 'doc_3769', 'doc_3830', 'doc_3843', 'doc_3904', 'doc_3922', 'doc_3955', 'doc_3969', 'doc_3994', 'doc_3996']\n",
      "spin  :  ['doc_1', 'doc_3262']\n",
      "u  :  ['doc_1', 'doc_20', 'doc_58', 'doc_60', 'doc_106', 'doc_116', 'doc_163', 'doc_210', 'doc_255', 'doc_281', 'doc_297', 'doc_302', 'doc_305', 'doc_316', 'doc_333', 'doc_344', 'doc_354', 'doc_361', 'doc_415', 'doc_445', 'doc_484', 'doc_514', 'doc_535', 'doc_565', 'doc_585', 'doc_590', 'doc_599', 'doc_632', 'doc_637', 'doc_643', 'doc_665', 'doc_668', 'doc_674', 'doc_685', 'doc_695', 'doc_722', 'doc_749', 'doc_751', 'doc_753', 'doc_762', 'doc_776', 'doc_777', 'doc_795', 'doc_803', 'doc_862', 'doc_886', 'doc_893', 'doc_903', 'doc_939', 'doc_941', 'doc_950', 'doc_978', 'doc_983', 'doc_1003', 'doc_1027', 'doc_1048', 'doc_1087', 'doc_1103', 'doc_1104', 'doc_1118', 'doc_1218', 'doc_1232', 'doc_1237', 'doc_1239', 'doc_1282', 'doc_1284', 'doc_1290', 'doc_1313', 'doc_1325', 'doc_1346', 'doc_1350', 'doc_1352', 'doc_1361', 'doc_1377', 'doc_1493', 'doc_1497', 'doc_1518', 'doc_1521', 'doc_1522', 'doc_1550', 'doc_1571', 'doc_1583', 'doc_1604', 'doc_1619', 'doc_1632', 'doc_1635', 'doc_1638', 'doc_1729', 'doc_1747', 'doc_1753', 'doc_1757', 'doc_1761', 'doc_1763', 'doc_1826', 'doc_1875', 'doc_1886', 'doc_1914', 'doc_1950', 'doc_1959', 'doc_1970', 'doc_1977', 'doc_1987', 'doc_1994', 'doc_2031', 'doc_2041', 'doc_2045', 'doc_2058', 'doc_2081', 'doc_2088', 'doc_2091', 'doc_2111', 'doc_2116', 'doc_2160', 'doc_2161', 'doc_2168', 'doc_2199', 'doc_2207', 'doc_2216', 'doc_2227', 'doc_2235', 'doc_2254', 'doc_2260', 'doc_2280', 'doc_2309', 'doc_2312', 'doc_2327', 'doc_2377', 'doc_2388', 'doc_2392', 'doc_2399', 'doc_2412', 'doc_2477', 'doc_2479', 'doc_2514', 'doc_2569', 'doc_2586', 'doc_2609', 'doc_2623', 'doc_2642', 'doc_2655', 'doc_2691', 'doc_2700', 'doc_2703', 'doc_2724', 'doc_2733', 'doc_2743', 'doc_2754', 'doc_2849', 'doc_2895', 'doc_2970', 'doc_3041', 'doc_3054', 'doc_3062', 'doc_3063', 'doc_3065', 'doc_3088', 'doc_3120', 'doc_3128', 'doc_3130', 'doc_3143', 'doc_3147', 'doc_3169', 'doc_3205', 'doc_3206', 'doc_3217', 'doc_3233', 'doc_3260', 'doc_3269', 'doc_3303', 'doc_3313', 'doc_3314', 'doc_3362', 'doc_3367', 'doc_3377', 'doc_3381', 'doc_3397', 'doc_3407', 'doc_3420', 'doc_3504', 'doc_3505', 'doc_3511', 'doc_3527', 'doc_3532', 'doc_3559', 'doc_3566', 'doc_3578', 'doc_3584', 'doc_3627', 'doc_3649', 'doc_3659', 'doc_3661', 'doc_3684', 'doc_3693', 'doc_3694', 'doc_3731', 'doc_3754', 'doc_3756', 'doc_3771', 'doc_3781', 'doc_3787', 'doc_3803', 'doc_3806', 'doc_3872', 'doc_3874', 'doc_3889', 'doc_3988', 'doc_3996']\n",
      "7  :  ['doc_1', 'doc_820', 'doc_1245', 'doc_1409', 'doc_1542', 'doc_1778', 'doc_2085', 'doc_2730', 'doc_3130', 'doc_3588']\n"
     ]
    }
   ],
   "source": [
    "i=0\n",
    "for key, value in vocabulary.items():\n",
    "    print(key, ' : ', value)\n",
    "    i+=1\n",
    "    if i>3:\n",
    "        break"
   ]
  },
  {
   "cell_type": "code",
   "execution_count": null,
   "id": "9e2862be-4eb1-4694-908f-0d065e1d1522",
   "metadata": {},
   "outputs": [],
   "source": []
  }
 ],
 "metadata": {
  "kernelspec": {
   "display_name": "Python 3 (ipykernel)",
   "language": "python",
   "name": "python3"
  },
  "language_info": {
   "codemirror_mode": {
    "name": "ipython",
    "version": 3
   },
   "file_extension": ".py",
   "mimetype": "text/x-python",
   "name": "python",
   "nbconvert_exporter": "python",
   "pygments_lexer": "ipython3",
   "version": "3.8.3"
  }
 },
 "nbformat": 4,
 "nbformat_minor": 5
}
