{
 "cells": [
  {
   "cell_type": "code",
   "execution_count": 1,
   "id": "e10d28d4-95c2-4828-a8b3-77312ec1a8a6",
   "metadata": {},
   "outputs": [],
   "source": [
    "import warnings\n",
    "warnings.filterwarnings(\"ignore\")\n",
    "import nltk\n",
    "\n",
    "#nltk.download('stopwords')   # If you don't have the stepwords, uncomment this line.\n"
   ]
  },
  {
   "cell_type": "code",
   "execution_count": 2,
   "id": "34761a12-bd1e-4af1-9924-dc4b69c37f5e",
   "metadata": {},
   "outputs": [],
   "source": [
    "from collections import defaultdict\n",
    "from array import array\n",
    "from nltk.stem import PorterStemmer\n",
    "from nltk.corpus import stopwords\n",
    "import math\n",
    "import numpy as np\n",
    "import collections\n",
    "from numpy import linalg as la\n",
    "#from numpy import ndarray as nda\n",
    "import time\n",
    "import pandas as pd\n",
    "import json\n",
    "import contractions"
   ]
  },
  {
   "cell_type": "code",
   "execution_count": 3,
   "id": "b54dd25e-2675-45af-9e95-5a78b1ec5fe1",
   "metadata": {},
   "outputs": [
    {
     "name": "stdout",
     "output_type": "stream",
     "text": [
      "Total number of tweet documents in the corpus: 4000\n"
     ]
    }
   ],
   "source": [
    "docs_path = 'data/tweet_document_ids_map.csv'\n",
    "with open(docs_path) as fp:\n",
    "    lines = fp.read().split(\"\\n\")\n",
    "lines = [l for l in lines if l != \"\"]\n",
    "print(\"Total number of tweet documents in the corpus: {}\".format(len(lines)))\n",
    "\n",
    "tweet2doc = dict()\n",
    "doc2tweet = dict()\n",
    "\n",
    "for line in lines:\n",
    "    docID, tweetID = tuple(line.split(\"\\t\"))\n",
    "    tweet2doc[tweetID] = docID\n",
    "    doc2tweet[docID] = tweetID"
   ]
  },
  {
   "cell_type": "code",
   "execution_count": 4,
   "id": "46a6f513-a3d2-4755-be39-c8b17e30d976",
   "metadata": {},
   "outputs": [
    {
     "ename": "FileNotFoundError",
     "evalue": "[Errno 2] No such file or directory: 'data/tw_hurricane_data.json'",
     "output_type": "error",
     "traceback": [
      "\u001b[0;31m---------------------------------------------------------------------------\u001b[0m",
      "\u001b[0;31mFileNotFoundError\u001b[0m                         Traceback (most recent call last)",
      "Cell \u001b[0;32mIn [4], line 2\u001b[0m\n\u001b[1;32m      1\u001b[0m tweets_path \u001b[38;5;241m=\u001b[39m \u001b[38;5;124m'\u001b[39m\u001b[38;5;124mdata/tw_hurricane_data.json\u001b[39m\u001b[38;5;124m'\u001b[39m\n\u001b[0;32m----> 2\u001b[0m \u001b[38;5;28;01mwith\u001b[39;00m \u001b[38;5;28mopen\u001b[39m(tweets_path) \u001b[38;5;28;01mas\u001b[39;00m fp:\n\u001b[1;32m      3\u001b[0m     tweets \u001b[38;5;241m=\u001b[39m fp\u001b[38;5;241m.\u001b[39mread()\u001b[38;5;241m.\u001b[39msplit(\u001b[38;5;124m\"\u001b[39m\u001b[38;5;130;01m\\n\u001b[39;00m\u001b[38;5;124m\"\u001b[39m)\n\u001b[1;32m      4\u001b[0m tweets \u001b[38;5;241m=\u001b[39m [t \u001b[38;5;28;01mfor\u001b[39;00m t \u001b[38;5;129;01min\u001b[39;00m tweets \u001b[38;5;28;01mif\u001b[39;00m t \u001b[38;5;241m!=\u001b[39m \u001b[38;5;124m\"\u001b[39m\u001b[38;5;124m\"\u001b[39m]\n",
      "\u001b[0;31mFileNotFoundError\u001b[0m: [Errno 2] No such file or directory: 'data/tw_hurricane_data.json'"
     ]
    }
   ],
   "source": [
    "tweets_path = 'data/tw_hurricane_data.json'\n",
    "with open(tweets_path) as fp:\n",
    "    tweets = fp.read().split(\"\\n\")\n",
    "tweets = [t for t in tweets if t != \"\"]\n",
    "print(\"Total number of tweets in the corpus: {}\".format(len(tweets)))"
   ]
  },
  {
   "cell_type": "code",
   "execution_count": null,
   "id": "87ce1c56-f2e8-4193-a923-59665f30304c",
   "metadata": {},
   "outputs": [],
   "source": [
    "tweets_json=[]\n",
    "for t in tweets:\n",
    "    tweets_json.append(json.loads(t))"
   ]
  },
  {
   "cell_type": "code",
   "execution_count": null,
   "id": "4aceac2e-d736-4e48-ad8d-0b0e8ebb189f",
   "metadata": {},
   "outputs": [],
   "source": [
    "lengths = set()\n",
    "for c in tweets_json:\n",
    "    entities = c[\"entities\"]\n",
    "    c[\"hashtags\"] = []\n",
    "    for hashtag in entities[\"hashtags\"]:\n",
    "        c[\"hashtags\"].append(hashtag[\"text\"])\n",
    "    c[\"url\"] = None\n",
    "    if \"media\" in entities.keys():\n",
    "        if \"url\" in entities[\"media\"][0].keys():\n",
    "            c[\"url\"] = entities[\"media\"][0][\"url\"]\n",
    "    #c[\"urls\"] = entities[\"urls\"]\n",
    "    c[\"username\"] = c[\"user\"][\"name\"]\n",
    "    \n",
    "columns = {\n",
    "    \"full_text\":\"Tweet\",\n",
    "    \"username\":\"Username\",\n",
    "    \"created_at\":\"Date\",\n",
    "    \"hashtags\":\"Hashtags\",\n",
    "    \"favorite_count\":\"Likes\",\n",
    "    \"retweet_count\":\"Retweets\",\n",
    "    \"url\":\"Url\"\n",
    "}\n",
    "\n",
    "dt_tweets = pd.DataFrame.from_dict(data=tweets_json)[columns.keys()].rename(columns=columns)\n",
    "dt_tweets.head()"
   ]
  },
  {
   "cell_type": "code",
   "execution_count": null,
   "id": "af909926-568b-4f73-8655-ea6653f5fc54",
   "metadata": {},
   "outputs": [],
   "source": [
    "def build_terms(line):\n",
    "    \"\"\"\n",
    "    Preprocess the tweet content removing stop words, stemming,\n",
    "    transforming in lowercase, removing special characters [#, @, .] and removing tweet url \n",
    "    (since it is included in another column on the dataframe)\n",
    "    \n",
    "    return tokenized tweet (list of words after applying the previous steps).\n",
    "    \n",
    "    Argument:\n",
    "    line -- string (tweet) to be preprocessed\n",
    "    \n",
    "    Returns:\n",
    "    line - a list of tokens corresponding to the input text after the preprocessing\n",
    "    \"\"\"\n",
    "    ## START CODE\n",
    "    line = line.lower() ## Transform in lowercase\n",
    "    line = re.sub(r\"[^A-Za-z 0-9 ']+\", '', line)\n",
    "    stop_words = set(stopwords.words(\"english\"))\n",
    "    line = ' '.join([contractions.fix(x) for x in line.split(' ')])\n",
    "    line = re.sub(\"'\", '', line)\n",
    "    line = line.split(r'\\s+')\n",
    "    line = [x for x in line if x and x not in stop_words]\n",
    "    line = filter(lambda x:x[0:5]!='https', line)\n",
    "    line = [x for x in line]\n",
    "    ps = PorterStemmer()\n",
    "    lemmatizer = WordNetLemmatizer()\n",
    "    line = [lemmatizer.lemmatize(x) for x in line]\n",
    "    line = [ps.stem(x) for x in line]\n",
    "    \n",
    "    ## END CODE\n",
    "    return ' '.join(line)"
   ]
  },
  {
   "cell_type": "code",
   "execution_count": null,
   "id": "a1199137-71c7-4d2b-a280-d151e65038e8",
   "metadata": {},
   "outputs": [],
   "source": [
    "build_terms(\"Where are we going alex ✨? I'm  going to buy the gardener's cats' food from this link https://hola.com\")"
   ]
  },
  {
   "cell_type": "code",
   "execution_count": null,
   "id": "f87a4bcd-a023-4787-9159-c41d59f6fa5f",
   "metadata": {},
   "outputs": [],
   "source": [
    "build_terms(dt_tweets.iloc[3]['Tweet'])"
   ]
  },
  {
   "cell_type": "code",
   "execution_count": null,
   "id": "1455bbd2-ec28-4df2-ba6d-adfa1d97e24e",
   "metadata": {},
   "outputs": [],
   "source": [
    "tweets_processed = dt_tweets.copy()\n",
    "for index, row in tweets_processed.iterrows():\n",
    "    tweets_processed[\"Tweet\"][index] = build_terms(row['Tweet'])\n",
    "tweets_processed.head()"
   ]
  },
  {
   "cell_type": "code",
   "execution_count": null,
   "id": "182a471b-7e85-401e-97a3-af1be1c68a34",
   "metadata": {},
   "outputs": [],
   "source": [
    "type(tweet2doc.keys())"
   ]
  },
  {
   "cell_type": "code",
   "execution_count": null,
   "id": "af56b71c-d07b-48e9-a604-d02b87052335",
   "metadata": {},
   "outputs": [],
   "source": [
    "tweets_processed[\"doc_id\"]=[tweet2doc[str(x[\"id\"])] for x in tweets_json]"
   ]
  },
  {
   "cell_type": "code",
   "execution_count": null,
   "id": "a1eb0a51-e548-4c83-9a30-ec4c4981905a",
   "metadata": {},
   "outputs": [],
   "source": [
    "tweets_processed.head()"
   ]
  }
 ],
 "metadata": {
  "kernelspec": {
   "display_name": "Python 3 (ipykernel)",
   "language": "python",
   "name": "python3"
  },
  "language_info": {
   "codemirror_mode": {
    "name": "ipython",
    "version": 3
   },
   "file_extension": ".py",
   "mimetype": "text/x-python",
   "name": "python",
   "nbconvert_exporter": "python",
   "pygments_lexer": "ipython3",
   "version": "3.10.6"
  }
 },
 "nbformat": 4,
 "nbformat_minor": 5
}
