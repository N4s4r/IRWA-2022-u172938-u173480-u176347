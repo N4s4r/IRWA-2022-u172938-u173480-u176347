{
 "cells": [
  {
   "cell_type": "code",
   "execution_count": 1,
   "id": "e10d28d4-95c2-4828-a8b3-77312ec1a8a6",
   "metadata": {},
   "outputs": [],
   "source": [
    "import warnings\n",
    "warnings.filterwarnings(\"ignore\")\n",
    "import nltk"
   ]
  },
  {
   "cell_type": "code",
   "execution_count": 2,
   "id": "34761a12-bd1e-4af1-9924-dc4b69c37f5e",
   "metadata": {},
   "outputs": [
    {
     "name": "stderr",
     "output_type": "stream",
     "text": [
      "[nltk_data] Downloading package stopwords to /home/nasar/nltk_data...\n",
      "[nltk_data]   Unzipping corpora/stopwords.zip.\n",
      "[nltk_data] Downloading package wordnet to /home/nasar/nltk_data...\n",
      "[nltk_data]   Package wordnet is already up-to-date!\n",
      "[nltk_data] Downloading package omw-1.4 to /home/nasar/nltk_data...\n",
      "[nltk_data]   Package omw-1.4 is already up-to-date!\n"
     ]
    },
    {
     "data": {
      "text/plain": [
       "True"
      ]
     },
     "execution_count": 2,
     "metadata": {},
     "output_type": "execute_result"
    }
   ],
   "source": [
    "from collections import defaultdict\n",
    "from array import array\n",
    "from nltk.stem import PorterStemmer\n",
    "from nltk.corpus import stopwords\n",
    "import math\n",
    "import numpy as np\n",
    "import collections\n",
    "from numpy import linalg as la\n",
    "#from numpy import ndarray as nda\n",
    "import time\n",
    "import pandas as pd\n",
    "import json\n",
    "import contractions\n",
    "import re\n",
    "from nltk.stem import WordNetLemmatizer\n",
    "nltk.download('stopwords')\n",
    "nltk.download('wordnet')\n",
    "nltk.download('omw-1.4')"
   ]
  },
  {
   "cell_type": "markdown",
   "id": "1d085222-01db-423f-9678-752617d8cc31",
   "metadata": {},
   "source": [
    "# 1) Reading the tweets to doc mapping "
   ]
  },
  {
   "cell_type": "code",
   "execution_count": 3,
   "id": "b54dd25e-2675-45af-9e95-5a78b1ec5fe1",
   "metadata": {},
   "outputs": [
    {
     "name": "stdout",
     "output_type": "stream",
     "text": [
      "Total number of tweet documents in the corpus: 4000\n"
     ]
    }
   ],
   "source": [
    "docs_path = 'data/tweet_document_ids_map.csv'\n",
    "\n",
    "# reading file line by line, each one is a mapping for a specific tweet \n",
    "with open(docs_path) as fp:\n",
    "    lines = fp.read().split(\"\\n\") \n",
    "lines = [l for l in lines if l != \"\"] # ensure there are no empty lines\n",
    "print(\"Total number of tweet documents in the corpus: {}\".format(len(lines)))\n",
    "\n",
    "# we store pairs (tweetId, docId) into 2 dictionaries \n",
    "\n",
    "tweet2doc = dict()\n",
    "doc2tweet = dict()\n",
    "\n",
    "for line in lines:\n",
    "    docID, tweetID = tuple(line.split(\"\\t\"))\n",
    "    tweet2doc[tweetID] = docID\n",
    "    doc2tweet[docID] = tweetID"
   ]
  },
  {
   "cell_type": "markdown",
   "id": "889f147b-ecc5-4748-9ab1-22ec16992a6a",
   "metadata": {},
   "source": [
    "# 2) Read tw_hurricane_data.json into a pandas Dataframe, keeping relevant fields"
   ]
  },
  {
   "cell_type": "code",
   "execution_count": 4,
   "id": "46a6f513-a3d2-4755-be39-c8b17e30d976",
   "metadata": {},
   "outputs": [
    {
     "name": "stdout",
     "output_type": "stream",
     "text": [
      "Total number of tweets in the corpus: 4000\n"
     ]
    }
   ],
   "source": [
    "tweets_path = 'data/tw_hurricane_data.json'\n",
    "with open(tweets_path) as fp:\n",
    "    tweets = fp.read().split(\"\\n\") # each tweet is a new line \n",
    "tweets = [t for t in tweets if t != \"\"]\n",
    "print(\"Total number of tweets in the corpus: {}\".format(len(tweets)))"
   ]
  },
  {
   "cell_type": "code",
   "execution_count": 5,
   "id": "87ce1c56-f2e8-4193-a923-59665f30304c",
   "metadata": {},
   "outputs": [],
   "source": [
    "tweets_json=[]\n",
    "for t in tweets:\n",
    "    tweets_json.append(json.loads(t))"
   ]
  },
  {
   "cell_type": "code",
   "execution_count": 6,
   "id": "4aceac2e-d736-4e48-ad8d-0b0e8ebb189f",
   "metadata": {},
   "outputs": [
    {
     "data": {
      "text/html": [
       "<div>\n",
       "<style scoped>\n",
       "    .dataframe tbody tr th:only-of-type {\n",
       "        vertical-align: middle;\n",
       "    }\n",
       "\n",
       "    .dataframe tbody tr th {\n",
       "        vertical-align: top;\n",
       "    }\n",
       "\n",
       "    .dataframe thead th {\n",
       "        text-align: right;\n",
       "    }\n",
       "</style>\n",
       "<table border=\"1\" class=\"dataframe\">\n",
       "  <thead>\n",
       "    <tr style=\"text-align: right;\">\n",
       "      <th></th>\n",
       "      <th>DocID</th>\n",
       "      <th>Tweet</th>\n",
       "      <th>Username</th>\n",
       "      <th>Date</th>\n",
       "      <th>Hashtags</th>\n",
       "      <th>Likes</th>\n",
       "      <th>Retweets</th>\n",
       "      <th>Url</th>\n",
       "    </tr>\n",
       "  </thead>\n",
       "  <tbody>\n",
       "    <tr>\n",
       "      <th>0</th>\n",
       "      <td>doc_1</td>\n",
       "      <td>So this will keep spinning over us until 7 pm…...</td>\n",
       "      <td>suzjdean</td>\n",
       "      <td>Fri Sep 30 18:39:08 +0000 2022</td>\n",
       "      <td>[HurricaneIan]</td>\n",
       "      <td>0</td>\n",
       "      <td>0</td>\n",
       "      <td>https://twitter.com/suzjdean/status/1575918182...</td>\n",
       "    </tr>\n",
       "    <tr>\n",
       "      <th>1</th>\n",
       "      <td>doc_2</td>\n",
       "      <td>Our hearts go out to all those affected by #Hu...</td>\n",
       "      <td>lytx</td>\n",
       "      <td>Fri Sep 30 18:39:01 +0000 2022</td>\n",
       "      <td>[HurricaneIan]</td>\n",
       "      <td>0</td>\n",
       "      <td>0</td>\n",
       "      <td>https://twitter.com/lytx/status/15759181518623...</td>\n",
       "    </tr>\n",
       "    <tr>\n",
       "      <th>2</th>\n",
       "      <td>doc_3</td>\n",
       "      <td>Kissimmee neighborhood off of Michigan Ave. \\n...</td>\n",
       "      <td>CHeathWFTV</td>\n",
       "      <td>Fri Sep 30 18:38:58 +0000 2022</td>\n",
       "      <td>[HurricaneIan]</td>\n",
       "      <td>0</td>\n",
       "      <td>0</td>\n",
       "      <td>https://twitter.com/CHeathWFTV/status/15759181...</td>\n",
       "    </tr>\n",
       "    <tr>\n",
       "      <th>3</th>\n",
       "      <td>doc_4</td>\n",
       "      <td>I have this one tree in my backyard that scare...</td>\n",
       "      <td>spiralgypsy</td>\n",
       "      <td>Fri Sep 30 18:38:57 +0000 2022</td>\n",
       "      <td>[scwx, HurricaneIan]</td>\n",
       "      <td>0</td>\n",
       "      <td>0</td>\n",
       "      <td>https://twitter.com/spiralgypsy/status/1575918...</td>\n",
       "    </tr>\n",
       "    <tr>\n",
       "      <th>4</th>\n",
       "      <td>doc_5</td>\n",
       "      <td>@AshleyRuizWx @Stephan89441722 @lilmizzheidi @...</td>\n",
       "      <td>Blondie610</td>\n",
       "      <td>Fri Sep 30 18:38:53 +0000 2022</td>\n",
       "      <td>[HurricaneIan]</td>\n",
       "      <td>0</td>\n",
       "      <td>0</td>\n",
       "      <td>https://twitter.com/Blondie610/status/15759181...</td>\n",
       "    </tr>\n",
       "  </tbody>\n",
       "</table>\n",
       "</div>"
      ],
      "text/plain": [
       "   DocID                                              Tweet     Username  \\\n",
       "0  doc_1  So this will keep spinning over us until 7 pm…...     suzjdean   \n",
       "1  doc_2  Our hearts go out to all those affected by #Hu...         lytx   \n",
       "2  doc_3  Kissimmee neighborhood off of Michigan Ave. \\n...   CHeathWFTV   \n",
       "3  doc_4  I have this one tree in my backyard that scare...  spiralgypsy   \n",
       "4  doc_5  @AshleyRuizWx @Stephan89441722 @lilmizzheidi @...   Blondie610   \n",
       "\n",
       "                             Date              Hashtags  Likes  Retweets  \\\n",
       "0  Fri Sep 30 18:39:08 +0000 2022        [HurricaneIan]      0         0   \n",
       "1  Fri Sep 30 18:39:01 +0000 2022        [HurricaneIan]      0         0   \n",
       "2  Fri Sep 30 18:38:58 +0000 2022        [HurricaneIan]      0         0   \n",
       "3  Fri Sep 30 18:38:57 +0000 2022  [scwx, HurricaneIan]      0         0   \n",
       "4  Fri Sep 30 18:38:53 +0000 2022        [HurricaneIan]      0         0   \n",
       "\n",
       "                                                 Url  \n",
       "0  https://twitter.com/suzjdean/status/1575918182...  \n",
       "1  https://twitter.com/lytx/status/15759181518623...  \n",
       "2  https://twitter.com/CHeathWFTV/status/15759181...  \n",
       "3  https://twitter.com/spiralgypsy/status/1575918...  \n",
       "4  https://twitter.com/Blondie610/status/15759181...  "
      ]
     },
     "execution_count": 6,
     "metadata": {},
     "output_type": "execute_result"
    }
   ],
   "source": [
    "for c in tweets_json:\n",
    "    entities = c[\"entities\"]\n",
    "    c[\"hashtags\"] = []\n",
    "    for hashtag in entities[\"hashtags\"]:\n",
    "        c[\"hashtags\"].append(hashtag[\"text\"])\n",
    "    c[\"username\"] = c[\"user\"][\"screen_name\"]\n",
    "    c[\"docID\"] = tweet2doc.get(c[\"id_str\"]) #use the mapping to obtain the corresponding doc id of each tweet \n",
    "    c[\"url\"] = f\"https://twitter.com/{c['username']}/status/{c['id_str']}\"\n",
    "\n",
    "# these are the final fields we are left with. \n",
    "columns = {\n",
    "    \"docID\":\"DocID\",\n",
    "    \"full_text\":\"Tweet\",\n",
    "    \"username\":\"Username\",\n",
    "    \"created_at\":\"Date\",\n",
    "    \"hashtags\":\"Hashtags\",\n",
    "    \"favorite_count\":\"Likes\",\n",
    "    \"retweet_count\":\"Retweets\",\n",
    "    \"url\":\"Url\"\n",
    "}\n",
    "\n",
    "dt_tweets = pd.DataFrame.from_dict(data=tweets_json)[columns.keys()].rename(columns=columns)\n",
    "dt_tweets.head()"
   ]
  },
  {
   "cell_type": "markdown",
   "id": "5957d630-c08f-4662-a989-3822906913fb",
   "metadata": {},
   "source": [
    "# 3) Processing the tweets content too keep a useful structure for future index creation "
   ]
  },
  {
   "cell_type": "code",
   "execution_count": 7,
   "id": "af909926-568b-4f73-8655-ea6653f5fc54",
   "metadata": {},
   "outputs": [],
   "source": [
    "def build_terms(line):\n",
    "    \"\"\"\n",
    "    Preprocess the tweet content removing stop words, contractionas and urls\n",
    "    lemmatizing and stemming words to keep a single word for each family of words\n",
    "    transforming in lowercase, removing special characters [#, @, .] \n",
    "    (since it is included in another column on the dataframe)\n",
    "    \n",
    "    return tokenized tweet (list of words after applying the previous steps).\n",
    "    \n",
    "    Argument:\n",
    "    line -- string (tweet) to be preprocessed\n",
    "    \n",
    "    Returns:\n",
    "    line - a list of tokens corresponding to the input text after the preprocessing\n",
    "    \"\"\"\n",
    "    ## START CODE\n",
    "    line = line.lower() ##Transform in lowercase\n",
    "    line = re.sub(r\"[^A-Za-z 0-9 ']+\", '', line) # remove emojis and any other special character\n",
    "    stop_words = set(stopwords.words(\"english\")) # removing stopwords\n",
    "    line = ' '.join([contractions.fix(x) for x in line.split(' ')]) # expaning verb abreviations: i'll -> i will \n",
    "    line = re.sub(\"'\", '', line) \n",
    "    line = line.split(' ')\n",
    "    line = [x for x in line if x and x not in stop_words]\n",
    "    line = filter(lambda x:x[0:5]!='https', line) # removing links\n",
    "    line = [x for x in line]\n",
    "    ps = PorterStemmer() \n",
    "    lemmatizer = WordNetLemmatizer() \n",
    "    line = [lemmatizer.lemmatize(x) for x in line] # keeping the singular form of each noun: feet --> foot\n",
    "    line = [ps.stem(x) for x in line] # keeping the root of each family of words: dancer --> danc\n",
    "    \n",
    "    ## END CODE\n",
    "    return ' '.join(line)"
   ]
  },
  {
   "cell_type": "code",
   "execution_count": 8,
   "id": "a1199137-71c7-4d2b-a280-d151e65038e8",
   "metadata": {},
   "outputs": [
    {
     "data": {
      "text/plain": [
       "'foot point alex go buy garden cat food link'"
      ]
     },
     "execution_count": 8,
     "metadata": {},
     "output_type": "execute_result"
    }
   ],
   "source": [
    "# example of a sentence transformation\n",
    "build_terms(\"Where are his feet pointing at, alex ✨? I'm  going to buy the gardener's cats' food from this link https://hola.com\")"
   ]
  },
  {
   "cell_type": "code",
   "execution_count": 9,
   "id": "f87a4bcd-a023-4787-9159-c41d59f6fa5f",
   "metadata": {},
   "outputs": [
    {
     "name": "stdout",
     "output_type": "stream",
     "text": [
      "I have this one tree in my backyard that scares me more than the poltergeist tree when it’s storming and windy like this. #scwx #HurricaneIan\n"
     ]
    },
    {
     "data": {
      "text/plain": [
       "'one tree backyard scare poltergeist tree storm windi like scwx hurricaneian'"
      ]
     },
     "execution_count": 9,
     "metadata": {},
     "output_type": "execute_result"
    }
   ],
   "source": [
    "# example of tweet and its transformation\n",
    "print(dt_tweets.iloc[3]['Tweet'])\n",
    "build_terms(dt_tweets.iloc[3]['Tweet'])"
   ]
  },
  {
   "cell_type": "code",
   "execution_count": 10,
   "id": "1455bbd2-ec28-4df2-ba6d-adfa1d97e24e",
   "metadata": {},
   "outputs": [
    {
     "data": {
      "text/html": [
       "<div>\n",
       "<style scoped>\n",
       "    .dataframe tbody tr th:only-of-type {\n",
       "        vertical-align: middle;\n",
       "    }\n",
       "\n",
       "    .dataframe tbody tr th {\n",
       "        vertical-align: top;\n",
       "    }\n",
       "\n",
       "    .dataframe thead th {\n",
       "        text-align: right;\n",
       "    }\n",
       "</style>\n",
       "<table border=\"1\" class=\"dataframe\">\n",
       "  <thead>\n",
       "    <tr style=\"text-align: right;\">\n",
       "      <th></th>\n",
       "      <th>DocID</th>\n",
       "      <th>Tweet</th>\n",
       "      <th>Username</th>\n",
       "      <th>Date</th>\n",
       "      <th>Hashtags</th>\n",
       "      <th>Likes</th>\n",
       "      <th>Retweets</th>\n",
       "      <th>Url</th>\n",
       "    </tr>\n",
       "  </thead>\n",
       "  <tbody>\n",
       "    <tr>\n",
       "      <th>0</th>\n",
       "      <td>doc_1</td>\n",
       "      <td>keep spin u 7 pmgo away alreadi hurricaneian</td>\n",
       "      <td>suzjdean</td>\n",
       "      <td>Fri Sep 30 18:39:08 +0000 2022</td>\n",
       "      <td>[HurricaneIan]</td>\n",
       "      <td>0</td>\n",
       "      <td>0</td>\n",
       "      <td>https://twitter.com/suzjdean/status/1575918182...</td>\n",
       "    </tr>\n",
       "    <tr>\n",
       "      <th>1</th>\n",
       "      <td>doc_2</td>\n",
       "      <td>heart go affect hurricaneian wish everyon road...</td>\n",
       "      <td>lytx</td>\n",
       "      <td>Fri Sep 30 18:39:01 +0000 2022</td>\n",
       "      <td>[HurricaneIan]</td>\n",
       "      <td>0</td>\n",
       "      <td>0</td>\n",
       "      <td>https://twitter.com/lytx/status/15759181518623...</td>\n",
       "    </tr>\n",
       "    <tr>\n",
       "      <th>2</th>\n",
       "      <td>doc_3</td>\n",
       "      <td>kissimme neighborhood michigan ave hurricaneian</td>\n",
       "      <td>CHeathWFTV</td>\n",
       "      <td>Fri Sep 30 18:38:58 +0000 2022</td>\n",
       "      <td>[HurricaneIan]</td>\n",
       "      <td>0</td>\n",
       "      <td>0</td>\n",
       "      <td>https://twitter.com/CHeathWFTV/status/15759181...</td>\n",
       "    </tr>\n",
       "    <tr>\n",
       "      <th>3</th>\n",
       "      <td>doc_4</td>\n",
       "      <td>one tree backyard scare poltergeist tree storm...</td>\n",
       "      <td>spiralgypsy</td>\n",
       "      <td>Fri Sep 30 18:38:57 +0000 2022</td>\n",
       "      <td>[scwx, HurricaneIan]</td>\n",
       "      <td>0</td>\n",
       "      <td>0</td>\n",
       "      <td>https://twitter.com/spiralgypsy/status/1575918...</td>\n",
       "    </tr>\n",
       "    <tr>\n",
       "      <th>4</th>\n",
       "      <td>doc_5</td>\n",
       "      <td>ashleyruizwx stephan89441722 lilmizzheidi mrsn...</td>\n",
       "      <td>Blondie610</td>\n",
       "      <td>Fri Sep 30 18:38:53 +0000 2022</td>\n",
       "      <td>[HurricaneIan]</td>\n",
       "      <td>0</td>\n",
       "      <td>0</td>\n",
       "      <td>https://twitter.com/Blondie610/status/15759181...</td>\n",
       "    </tr>\n",
       "  </tbody>\n",
       "</table>\n",
       "</div>"
      ],
      "text/plain": [
       "   DocID                                              Tweet     Username  \\\n",
       "0  doc_1       keep spin u 7 pmgo away alreadi hurricaneian     suzjdean   \n",
       "1  doc_2  heart go affect hurricaneian wish everyon road...         lytx   \n",
       "2  doc_3    kissimme neighborhood michigan ave hurricaneian   CHeathWFTV   \n",
       "3  doc_4  one tree backyard scare poltergeist tree storm...  spiralgypsy   \n",
       "4  doc_5  ashleyruizwx stephan89441722 lilmizzheidi mrsn...   Blondie610   \n",
       "\n",
       "                             Date              Hashtags  Likes  Retweets  \\\n",
       "0  Fri Sep 30 18:39:08 +0000 2022        [HurricaneIan]      0         0   \n",
       "1  Fri Sep 30 18:39:01 +0000 2022        [HurricaneIan]      0         0   \n",
       "2  Fri Sep 30 18:38:58 +0000 2022        [HurricaneIan]      0         0   \n",
       "3  Fri Sep 30 18:38:57 +0000 2022  [scwx, HurricaneIan]      0         0   \n",
       "4  Fri Sep 30 18:38:53 +0000 2022        [HurricaneIan]      0         0   \n",
       "\n",
       "                                                 Url  \n",
       "0  https://twitter.com/suzjdean/status/1575918182...  \n",
       "1  https://twitter.com/lytx/status/15759181518623...  \n",
       "2  https://twitter.com/CHeathWFTV/status/15759181...  \n",
       "3  https://twitter.com/spiralgypsy/status/1575918...  \n",
       "4  https://twitter.com/Blondie610/status/15759181...  "
      ]
     },
     "execution_count": 10,
     "metadata": {},
     "output_type": "execute_result"
    }
   ],
   "source": [
    "tweets_processed = dt_tweets.copy()\n",
    "for index, row in tweets_processed.iterrows():\n",
    "    tweets_processed[\"Tweet\"][index] = build_terms(row['Tweet'])\n",
    "tweets_processed.head()"
   ]
  },
  {
   "cell_type": "markdown",
   "id": "4577108f-170f-44d1-80ee-bc9ee3ad8af6",
   "metadata": {},
   "source": [
    "# 4) Exporting processed tweets to a csv file "
   ]
  },
  {
   "cell_type": "code",
   "execution_count": 11,
   "id": "90198b09-e900-40e6-a751-31687595bd87",
   "metadata": {},
   "outputs": [],
   "source": [
    "from pathlib import Path  \n",
    "filepath = Path('processed_tweets.csv')  \n",
    "filepath.parent.mkdir(parents=True, exist_ok=True)  \n",
    "tweets_processed.to_csv(filepath)  "
   ]
  }
 ],
 "metadata": {
  "kernelspec": {
   "display_name": "Python 3 (ipykernel)",
   "language": "python",
   "name": "python3"
  },
  "language_info": {
   "codemirror_mode": {
    "name": "ipython",
    "version": 3
   },
   "file_extension": ".py",
   "mimetype": "text/x-python",
   "name": "python",
   "nbconvert_exporter": "python",
   "pygments_lexer": "ipython3",
   "version": "3.10.6"
  }
 },
 "nbformat": 4,
 "nbformat_minor": 5
}
